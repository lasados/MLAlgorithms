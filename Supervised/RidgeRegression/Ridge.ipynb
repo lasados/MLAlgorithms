{
 "cells": [
  {
   "cell_type": "markdown",
   "metadata": {},
   "source": [
    "# Ridge Regression. \n",
    "\n",
    "## Theory\n",
    "1. Обозначения\n",
    "\n",
    "    $a=\\left( {{a}_{1}}\\text{ }...\\text{  }{{a}_{l}} \\right)$ - вектор прогнозов модели\n",
    "\n",
    "    $y=\\left( {{y}_{1}}\\text{ }...\\text{  }{{y}_{l}} \\right)$ - вектор ответов\n",
    "\n",
    "    $X=\\left( \\begin{align}\n",
    "     & 1\\text{  }{{x}_{11}}\\text{ }....\\text{  }{{x}_{1d}} \\\\ \n",
    "     & 1\\text{      }....... \\\\ \n",
    "     & 1\\text{      }....... \\\\\n",
    "     & 1\\text{  }{{x}_{l1}}\\text{ }....\\text{   }{{x}_{ld}} \\\\ \n",
    "    \\end{align} \\right)$ - матрица признаков\n",
    "\n",
    "    $w=\\left( \\begin{align}\n",
    "     & {{w}_{0}} \\\\ \n",
    "     & {{w}_{1}} \\\\ \n",
    "     & ... \\\\ \n",
    "     & {{w}_{d}} \\\\ \n",
    "    \\end{align} \\right)$ - матрица весов\n",
    "\n",
    "    $a=Xw=np.dot(X,w)$ - прогноз\n",
    "\n",
    "    $Q(w,X)=\\frac{1}{2l}||Xw-y|{{|}^{2}}+\\frac{\\lambda }{2}||w|{{|}^{2}}$   - функция ошибки\n",
    "\n",
    "\n",
    "2. Стандартизация\n",
    "\n",
    "    ${{\\mu }_{j}}=\\frac{1}{l}\\sum\\limits_{i=1}^{l}{x_{i}^{j}}$\n",
    "\n",
    "    ${{\\mu }}=np.mean(X, axis=0)$\n",
    "\n",
    "    ${{\\sigma }_{j}}=\\sqrt{\\frac{1}{l}\\sum\\limits_{i=1}^{l}{{{\\left( x_{i}^{j}-{{\\mu }_{j}} \\right)}^{2}}}}$\n",
    "    \n",
    "    ${\\sigma }=np.std(X, axis=0)$\n",
    "    \n",
    "    $X:=\\frac{X-{{\\mu }}}{{\\sigma }}$\n",
    "    \n",
    "    \n",
    "3. Оптимизация\n",
    "\n",
    "    $Q(w,X)\\to \\min$\n",
    "    \n",
    "    $\\frac{\\partial Q}{\\partial w}=\\frac{1}{l}\\left( a-y \\right)\\cdot \\frac{\\partial a}{\\partial w}+\\lambda w=\\frac{1}{l}\\left( a-y \\right)X+\\lambda w$\n",
    " \n",
    "    $w:=w-\\alpha \\frac{\\partial Q}{\\partial w}$\n",
    "    \n",
    "    \n",
    "4. Аналитическое решение\n",
    "\n",
    "    $\\begin{align}\n",
    "      & Q=||Xw-y|{{|}^{2}}+\\lambda ||w|{{|}^{2}}\\to \\min  \\\\ \n",
    "      & Q={{\\left( Xw-y \\right)}^{T}}\\left( Xw-y \\right)+\\lambda {{w}^{T}}w \\\\ \n",
    "      & \\frac{\\partial Q}{\\partial w}={{X}^{T}}\\left( Xw-y \\right)+\\lambda w=0 \\\\ \n",
    "      & {{X}^{T}}Xw-{{X}^{T}}y+\\lambda w=0 \\\\ \n",
    "      & w={{\\left( {{X}^{T}}X+\\lambda I \\right)}^{-1}}{{X}^{T}}y \\\\ \n",
    "    \\end{align}$\n",
    "\n",
    "    "
   ]
  },
  {
   "cell_type": "markdown",
   "metadata": {},
   "source": [
    "## Practice"
   ]
  },
  {
   "cell_type": "markdown",
   "metadata": {},
   "source": [
    "### 1) Import libs and dataset"
   ]
  },
  {
   "cell_type": "code",
   "execution_count": 1,
   "metadata": {},
   "outputs": [],
   "source": [
    "import pandas as pd\n",
    "import numpy as np\n",
    "import seaborn as sns\n",
    "import random\n",
    "\n",
    "from sklearn.datasets import load_boston\n",
    "from matplotlib import pyplot as plt\n",
    "\n",
    "boston_dataset = load_boston()\n",
    "sns.set()"
   ]
  },
  {
   "cell_type": "markdown",
   "metadata": {},
   "source": [
    "### 2) Create matrix of features and target vector. Append constant feature"
   ]
  },
  {
   "cell_type": "code",
   "execution_count": 2,
   "metadata": {},
   "outputs": [
    {
     "data": {
      "text/html": [
       "<div>\n",
       "<style scoped>\n",
       "    .dataframe tbody tr th:only-of-type {\n",
       "        vertical-align: middle;\n",
       "    }\n",
       "\n",
       "    .dataframe tbody tr th {\n",
       "        vertical-align: top;\n",
       "    }\n",
       "\n",
       "    .dataframe thead th {\n",
       "        text-align: right;\n",
       "    }\n",
       "</style>\n",
       "<table border=\"1\" class=\"dataframe\">\n",
       "  <thead>\n",
       "    <tr style=\"text-align: right;\">\n",
       "      <th></th>\n",
       "      <th>__constant</th>\n",
       "      <th>CRIM</th>\n",
       "      <th>ZN</th>\n",
       "      <th>INDUS</th>\n",
       "      <th>CHAS</th>\n",
       "      <th>NOX</th>\n",
       "      <th>RM</th>\n",
       "      <th>AGE</th>\n",
       "      <th>DIS</th>\n",
       "      <th>RAD</th>\n",
       "      <th>TAX</th>\n",
       "      <th>PTRATIO</th>\n",
       "      <th>B</th>\n",
       "      <th>LSTAT</th>\n",
       "    </tr>\n",
       "  </thead>\n",
       "  <tbody>\n",
       "    <tr>\n",
       "      <td>0</td>\n",
       "      <td>1</td>\n",
       "      <td>0.00632</td>\n",
       "      <td>18.0</td>\n",
       "      <td>2.31</td>\n",
       "      <td>0.0</td>\n",
       "      <td>0.538</td>\n",
       "      <td>6.575</td>\n",
       "      <td>65.2</td>\n",
       "      <td>4.0900</td>\n",
       "      <td>1.0</td>\n",
       "      <td>296.0</td>\n",
       "      <td>15.3</td>\n",
       "      <td>396.90</td>\n",
       "      <td>4.98</td>\n",
       "    </tr>\n",
       "    <tr>\n",
       "      <td>1</td>\n",
       "      <td>1</td>\n",
       "      <td>0.02731</td>\n",
       "      <td>0.0</td>\n",
       "      <td>7.07</td>\n",
       "      <td>0.0</td>\n",
       "      <td>0.469</td>\n",
       "      <td>6.421</td>\n",
       "      <td>78.9</td>\n",
       "      <td>4.9671</td>\n",
       "      <td>2.0</td>\n",
       "      <td>242.0</td>\n",
       "      <td>17.8</td>\n",
       "      <td>396.90</td>\n",
       "      <td>9.14</td>\n",
       "    </tr>\n",
       "    <tr>\n",
       "      <td>2</td>\n",
       "      <td>1</td>\n",
       "      <td>0.02729</td>\n",
       "      <td>0.0</td>\n",
       "      <td>7.07</td>\n",
       "      <td>0.0</td>\n",
       "      <td>0.469</td>\n",
       "      <td>7.185</td>\n",
       "      <td>61.1</td>\n",
       "      <td>4.9671</td>\n",
       "      <td>2.0</td>\n",
       "      <td>242.0</td>\n",
       "      <td>17.8</td>\n",
       "      <td>392.83</td>\n",
       "      <td>4.03</td>\n",
       "    </tr>\n",
       "    <tr>\n",
       "      <td>3</td>\n",
       "      <td>1</td>\n",
       "      <td>0.03237</td>\n",
       "      <td>0.0</td>\n",
       "      <td>2.18</td>\n",
       "      <td>0.0</td>\n",
       "      <td>0.458</td>\n",
       "      <td>6.998</td>\n",
       "      <td>45.8</td>\n",
       "      <td>6.0622</td>\n",
       "      <td>3.0</td>\n",
       "      <td>222.0</td>\n",
       "      <td>18.7</td>\n",
       "      <td>394.63</td>\n",
       "      <td>2.94</td>\n",
       "    </tr>\n",
       "    <tr>\n",
       "      <td>4</td>\n",
       "      <td>1</td>\n",
       "      <td>0.06905</td>\n",
       "      <td>0.0</td>\n",
       "      <td>2.18</td>\n",
       "      <td>0.0</td>\n",
       "      <td>0.458</td>\n",
       "      <td>7.147</td>\n",
       "      <td>54.2</td>\n",
       "      <td>6.0622</td>\n",
       "      <td>3.0</td>\n",
       "      <td>222.0</td>\n",
       "      <td>18.7</td>\n",
       "      <td>396.90</td>\n",
       "      <td>5.33</td>\n",
       "    </tr>\n",
       "  </tbody>\n",
       "</table>\n",
       "</div>"
      ],
      "text/plain": [
       "   __constant     CRIM    ZN  INDUS  CHAS    NOX     RM   AGE     DIS  RAD  \\\n",
       "0           1  0.00632  18.0   2.31   0.0  0.538  6.575  65.2  4.0900  1.0   \n",
       "1           1  0.02731   0.0   7.07   0.0  0.469  6.421  78.9  4.9671  2.0   \n",
       "2           1  0.02729   0.0   7.07   0.0  0.469  7.185  61.1  4.9671  2.0   \n",
       "3           1  0.03237   0.0   2.18   0.0  0.458  6.998  45.8  6.0622  3.0   \n",
       "4           1  0.06905   0.0   2.18   0.0  0.458  7.147  54.2  6.0622  3.0   \n",
       "\n",
       "     TAX  PTRATIO       B  LSTAT  \n",
       "0  296.0     15.3  396.90   4.98  \n",
       "1  242.0     17.8  396.90   9.14  \n",
       "2  242.0     17.8  392.83   4.03  \n",
       "3  222.0     18.7  394.63   2.94  \n",
       "4  222.0     18.7  396.90   5.33  "
      ]
     },
     "execution_count": 2,
     "metadata": {},
     "output_type": "execute_result"
    }
   ],
   "source": [
    "boston = pd.DataFrame(boston_dataset.data, columns=boston_dataset.feature_names)\n",
    "boston.insert(0, '__constant', 1)\n",
    "boston.head()"
   ]
  },
  {
   "cell_type": "code",
   "execution_count": 3,
   "metadata": {},
   "outputs": [],
   "source": [
    "X = boston.values\n",
    "y = boston_dataset.target"
   ]
  },
  {
   "cell_type": "markdown",
   "metadata": {},
   "source": [
    "### 3) Train/dev/test split"
   ]
  },
  {
   "cell_type": "code",
   "execution_count": 4,
   "metadata": {},
   "outputs": [],
   "source": [
    "def train_dev_test_split(X, y, shuffle=True, train_size=0.7, dev_size=0.2):\n",
    "    \"\"\"\n",
    "    Splits given arrays of X and y on three parts.\n",
    "    Arguments:\n",
    "        X - np.array of features, X.shape = (N, nx)\n",
    "        y - np.array of target, y.shape = (N, 1)\n",
    "        N - number of samples\n",
    "    Returns:\n",
    "        [X_train, y_train], [X_dev, y_dev], [X_test, y_test]\n",
    "    \"\"\"\n",
    "    \n",
    "    N, nx = X.shape\n",
    "    \n",
    "    \n",
    "    assert y.shape[0] == N, \"X and y arrays have different number of samples\"\n",
    "    assert train_size + dev_size <= 1.0, \"Bad size of sets\"\n",
    "    \n",
    "    idx = np.array(range(N))\n",
    "    if shuffle:\n",
    "        random.shuffle(idx)\n",
    "    \n",
    "    idx_train = idx[0: int(train_size*N)]\n",
    "    idx_dev = idx[int(train_size*N): int((train_size + dev_size)*N)]\n",
    "    idx_test = idx[int((train_size + dev_size)*N):]\n",
    "    \n",
    "    \n",
    "    X_train, y_train = X[idx_train], y[idx_train]\n",
    "    X_dev, y_dev = X[idx_dev], y[idx_dev]  \n",
    "    X_test, y_test = X[idx_test], y[idx_test]\n",
    "    \n",
    "    return [X_train, y_train], [X_dev, y_dev], [X_test, y_test]"
   ]
  },
  {
   "cell_type": "markdown",
   "metadata": {},
   "source": [
    "### 4) Standartization"
   ]
  },
  {
   "cell_type": "code",
   "execution_count": 23,
   "metadata": {},
   "outputs": [],
   "source": [
    "def standart_scaler(X_train, X_dev, X_test):\n",
    "    \"\"\"\n",
    "    Scales arrays based on train set with Standart_Scale.\n",
    "    Arguments:\n",
    "        X_train, X_dev, X_test - np.arrays\n",
    "    Returns:\n",
    "        X_train_scale, X_dev_scale, X_test_scale - np.arrays\n",
    "    \"\"\"\n",
    "    \n",
    "    mu = np.mean(X_train, axis=0)\n",
    "    sigma = np.std(X_train, axis=0)\n",
    "    sigma = np.where(sigma==0, 1, sigma)    # replace std=0 on 1\n",
    "    \n",
    "    X_train_scale = (X_train - mu) / sigma\n",
    "    X_dev_scale = (X_dev - mu) / sigma\n",
    "    X_test_scale = (X_test - mu) / sigma\n",
    "    \n",
    "    return X_train_scale, X_dev_scale, X_test_scale"
   ]
  },
  {
   "cell_type": "markdown",
   "metadata": {},
   "source": [
    "### 5) Weight initialization"
   ]
  },
  {
   "cell_type": "code",
   "execution_count": 24,
   "metadata": {},
   "outputs": [],
   "source": [
    "def init_weights(nx):\n",
    "    \"\"\"\n",
    "    Initialize weight with random numbers.\n",
    "    Arguments:\n",
    "        nx - int, X.shape = (N, nx) \n",
    "    Returns:\n",
    "        w - np.array\n",
    "    \"\"\"\n",
    "    \n",
    "    w = 100*np.random.random(nx)\n",
    "    \n",
    "    return w"
   ]
  },
  {
   "cell_type": "markdown",
   "metadata": {},
   "source": [
    "### 6) Loss function"
   ]
  },
  {
   "cell_type": "code",
   "execution_count": 25,
   "metadata": {},
   "outputs": [],
   "source": [
    "def ridge_loss(X_train, y_train, w, lamda=1.0):\n",
    "    \n",
    "    N = X_train.shape[0]\n",
    "    A = np.dot(X_train, w)\n",
    "    \n",
    "    Q = 1/(2*N)*np.sum((A - y_train)**2) + lamda/2*np.sum(w**2)\n",
    "    \n",
    "    dw = 1/N*np.dot((A - y_train), X_train) + lamda*w\n",
    "    \n",
    "    return Q, dw"
   ]
  },
  {
   "cell_type": "markdown",
   "metadata": {},
   "source": [
    "### 7) Optimization"
   ]
  },
  {
   "cell_type": "code",
   "execution_count": 28,
   "metadata": {},
   "outputs": [],
   "source": [
    "def update_weights(w, dw, learning_rate=0.01):\n",
    "    return w - learning_rate*dw\n",
    "\n",
    "def predict(X, w):\n",
    "    A = np.dot(X, w)\n",
    "    return A\n",
    "\n",
    "def ridge_model(X, y, n_iter=10000):\n",
    "    \n",
    "    # Split data\n",
    "    [X_train, y_train], [X_dev, y_dev], [X_test, y_test] = train_dev_test_split(X, y)\n",
    "    \n",
    "    # Scale data\n",
    "    X_train_scale, X_dev_scale, X_test_scale = standart_scaler(X_train, X_dev, X_test)\n",
    "    \n",
    "    # Number of features\n",
    "    nx = X_train_scale.shape[1]\n",
    "    \n",
    "    # Init weights\n",
    "    w = init_weights(nx)\n",
    "    \n",
    "    # Init list with loss\n",
    "    Q_iter = []\n",
    "    \n",
    "    # Learning\n",
    "    for _ in range(n_iter):\n",
    "        Q, dw = ridge_loss(X_train_scale, y_train, w)\n",
    "        \n",
    "        Q_iter.append(Q)\n",
    "        \n",
    "        w = update_weights(w, dw)\n",
    "    \n",
    "    # Prediction\n",
    "    y_dev_pred = predict(X_dev_scale, w)\n",
    "        \n",
    "    return Q_iter, w, y_dev_pred, y_dev"
   ]
  },
  {
   "cell_type": "code",
   "execution_count": 29,
   "metadata": {},
   "outputs": [],
   "source": [
    "def plot_loss(q_iter):\n",
    "    \n",
    "    iterations = list(range(len(q_iter)))\n",
    "    \n",
    "    plt.figure(figsize=(12,6))\n",
    "    plt.title('Loss function')\n",
    "    \n",
    "    plt.plot(iterations, q_iter, 'r--', label='loss')\n",
    "    plt.xlabel('Iteration')\n",
    "    plt.ylabel('Loss')\n",
    "    plt.legend()\n",
    "    "
   ]
  },
  {
   "cell_type": "markdown",
   "metadata": {},
   "source": [
    "### 8) Learning and prediction"
   ]
  },
  {
   "cell_type": "code",
   "execution_count": 32,
   "metadata": {},
   "outputs": [
    {
     "data": {
      "image/png": "[encoded data removed]",
      "text/plain": [
       "<Figure size 864x432 with 1 Axes>"
      ]
     },
     "metadata": {},
     "output_type": "display_data"
    }
   ],
   "source": [
    "Q_iter, w, y_dev_pred, y_dev = ridge_model(X, y)\n",
    "plot_loss(Q_iter)"
   ]
  },
  {
   "cell_type": "markdown",
   "metadata": {},
   "source": [
    "### 8) Prediction"
   ]
  },
  {
   "cell_type": "code",
   "execution_count": 31,
   "metadata": {},
   "outputs": [
    {
     "data": {
      "image/png": "[encoded data removed]",
      "text/plain": [
       "<Figure size 432x288 with 1 Axes>"
      ]
     },
     "metadata": {},
     "output_type": "display_data"
    }
   ],
   "source": [
    "x = list(range(len(y_dev_pred)))\n",
    "plt.plot(x, y_dev_pred)\n",
    "plt.plot(x, y_dev)\n",
    "plt.show()"
   ]
  },
  {
   "cell_type": "code",
   "execution_count": null,
   "metadata": {},
   "outputs": [],
   "source": []
  }
 ],
 "metadata": {
  "kernelspec": {
   "display_name": "Python 3",
   "language": "python",
   "name": "python3"
  },
  "language_info": {
   "codemirror_mode": {
    "name": "ipython",
    "version": 3
   },
   "file_extension": ".py",
   "mimetype": "text/x-python",
   "name": "python",
   "nbconvert_exporter": "python",
   "pygments_lexer": "ipython3",
   "version": "3.7.4"
  }
 },
 "nbformat": 4,
 "nbformat_minor": 4
}
