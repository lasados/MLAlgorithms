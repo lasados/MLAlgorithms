{
 "cells": [
  {
   "cell_type": "markdown",
   "metadata": {},
   "source": [
    "# Ridge Regression. \n",
    "\n",
    "## Theory\n",
    "1. Обозначения\n",
    "\n",
    "    $a=\\left( {{a}_{1}}\\text{ }...\\text{  }{{a}_{l}} \\right)$ - вектор прогнозов модели\n",
    "\n",
    "    $y=\\left( {{y}_{1}}\\text{ }...\\text{  }{{y}_{l}} \\right)$ - вектор ответов\n",
    "\n",
    "    $X=\\left( \\begin{align}\n",
    "     & 1\\text{  }{{x}_{11}}\\text{ }....\\text{  }{{x}_{1d}} \\\\ \n",
    "     & 1\\text{      }....... \\\\ \n",
    "     & 1\\text{      }....... \\\\\n",
    "     & 1\\text{  }{{x}_{l1}}\\text{ }....\\text{   }{{x}_{ld}} \\\\ \n",
    "    \\end{align} \\right)$ - матрица признаков\n",
    "\n",
    "    $w=\\left( \\begin{align}\n",
    "     & {{w}_{0}} \\\\ \n",
    "     & {{w}_{1}} \\\\ \n",
    "     & ... \\\\ \n",
    "     & {{w}_{d}} \\\\ \n",
    "    \\end{align} \\right)$ - матрица весов\n",
    "\n",
    "    $a=Xw=np.dot(X,w)$ - прогноз\n",
    "\n",
    "    $Q(w,X)=\\frac{1}{2l}||Xw-y|{{|}^{2}}+\\frac{\\lambda }{2}||w|{{|}^{2}}$   - функция ошибки\n",
    "\n",
    "\n",
    "2. Стандартизация\n",
    "\n",
    "    ${{\\mu }_{j}}=\\frac{1}{l}\\sum\\limits_{i=1}^{l}{x_{i}^{j}}$\n",
    "\n",
    "    ${{\\mu }}=np.mean(X, axis=0)$\n",
    "\n",
    "    ${{\\sigma }_{j}}=\\sqrt{\\frac{1}{l}\\sum\\limits_{i=1}^{l}{{{\\left( x_{i}^{j}-{{\\mu }_{j}} \\right)}^{2}}}}$\n",
    "    \n",
    "    ${\\sigma }=np.std(X, axis=0)$\n",
    "    \n",
    "    $X:=\\frac{X-{{\\mu }}}{{\\sigma }}$\n",
    "    \n",
    "    \n",
    "3. Оптимизация\n",
    "\n",
    "    $Q(w,X)\\to \\min$\n",
    "    \n",
    "    $\\frac{\\partial Q}{\\partial w}=\\frac{1}{l}\\left( a-y \\right)\\cdot \\frac{\\partial a}{\\partial w}+\\lambda w=\\frac{1}{l}\\left( a-y \\right)X+\\lambda w$\n",
    " \n",
    "    $w:=w-\\alpha \\frac{\\partial Q}{\\partial w}$\n",
    "    \n",
    "    \n",
    "4. Аналитическое решение\n",
    "\n",
    "    $\\begin{align}\n",
    "      & Q=||Xw-y|{{|}^{2}}+\\lambda ||w|{{|}^{2}}\\to \\min  \\\\ \n",
    "      & Q={{\\left( Xw-y \\right)}^{T}}\\left( Xw-y \\right)+\\lambda {{w}^{T}}w \\\\ \n",
    "      & \\frac{\\partial Q}{\\partial w}={{X}^{T}}\\left( Xw-y \\right)+\\lambda w=0 \\\\ \n",
    "      & {{X}^{T}}Xw-{{X}^{T}}y+\\lambda w=0 \\\\ \n",
    "      & w={{\\left( {{X}^{T}}X+\\lambda I \\right)}^{-1}}{{X}^{T}}y \\\\ \n",
    "    \\end{align}$\n",
    "\n",
    "    "
   ]
  },
  {
   "cell_type": "markdown",
   "metadata": {},
   "source": [
    "## Practice"
   ]
  },
  {
   "cell_type": "markdown",
   "metadata": {},
   "source": [
    "### 1) Import libs and dataset"
   ]
  },
  {
   "cell_type": "code",
   "execution_count": 1,
   "metadata": {},
   "outputs": [],
   "source": [
    "# Snadard libs\n",
    "import pandas as pd\n",
    "import numpy as np\n",
    "import seaborn as sns\n",
    "import random\n",
    "import sys\n",
    "\n",
    "from sklearn.datasets import load_boston\n",
    "from matplotlib import pyplot as plt"
   ]
  },
  {
   "cell_type": "code",
   "execution_count": 2,
   "metadata": {},
   "outputs": [],
   "source": [
    "# My libs\n",
    "from ridge import Ridge\n",
    "sys.path.append('../../')\n",
    "from mltools.preprocessing import *"
   ]
  },
  {
   "cell_type": "code",
   "execution_count": 3,
   "metadata": {},
   "outputs": [],
   "source": [
    "# Load data\n",
    "boston_dataset = load_boston()\n",
    "sns.set()"
   ]
  },
  {
   "cell_type": "markdown",
   "metadata": {},
   "source": [
    "### 2) Create matrix of features and target vector. Append constant feature"
   ]
  },
  {
   "cell_type": "code",
   "execution_count": 4,
   "metadata": {},
   "outputs": [
    {
     "data": {
      "text/html": [
       "<div>\n",
       "<style scoped>\n",
       "    .dataframe tbody tr th:only-of-type {\n",
       "        vertical-align: middle;\n",
       "    }\n",
       "\n",
       "    .dataframe tbody tr th {\n",
       "        vertical-align: top;\n",
       "    }\n",
       "\n",
       "    .dataframe thead th {\n",
       "        text-align: right;\n",
       "    }\n",
       "</style>\n",
       "<table border=\"1\" class=\"dataframe\">\n",
       "  <thead>\n",
       "    <tr style=\"text-align: right;\">\n",
       "      <th></th>\n",
       "      <th>__constant</th>\n",
       "      <th>CRIM</th>\n",
       "      <th>ZN</th>\n",
       "      <th>INDUS</th>\n",
       "      <th>CHAS</th>\n",
       "      <th>NOX</th>\n",
       "      <th>RM</th>\n",
       "      <th>AGE</th>\n",
       "      <th>DIS</th>\n",
       "      <th>RAD</th>\n",
       "      <th>TAX</th>\n",
       "      <th>PTRATIO</th>\n",
       "      <th>B</th>\n",
       "      <th>LSTAT</th>\n",
       "    </tr>\n",
       "  </thead>\n",
       "  <tbody>\n",
       "    <tr>\n",
       "      <td>0</td>\n",
       "      <td>1</td>\n",
       "      <td>0.00632</td>\n",
       "      <td>18.0</td>\n",
       "      <td>2.31</td>\n",
       "      <td>0.0</td>\n",
       "      <td>0.538</td>\n",
       "      <td>6.575</td>\n",
       "      <td>65.2</td>\n",
       "      <td>4.0900</td>\n",
       "      <td>1.0</td>\n",
       "      <td>296.0</td>\n",
       "      <td>15.3</td>\n",
       "      <td>396.90</td>\n",
       "      <td>4.98</td>\n",
       "    </tr>\n",
       "    <tr>\n",
       "      <td>1</td>\n",
       "      <td>1</td>\n",
       "      <td>0.02731</td>\n",
       "      <td>0.0</td>\n",
       "      <td>7.07</td>\n",
       "      <td>0.0</td>\n",
       "      <td>0.469</td>\n",
       "      <td>6.421</td>\n",
       "      <td>78.9</td>\n",
       "      <td>4.9671</td>\n",
       "      <td>2.0</td>\n",
       "      <td>242.0</td>\n",
       "      <td>17.8</td>\n",
       "      <td>396.90</td>\n",
       "      <td>9.14</td>\n",
       "    </tr>\n",
       "    <tr>\n",
       "      <td>2</td>\n",
       "      <td>1</td>\n",
       "      <td>0.02729</td>\n",
       "      <td>0.0</td>\n",
       "      <td>7.07</td>\n",
       "      <td>0.0</td>\n",
       "      <td>0.469</td>\n",
       "      <td>7.185</td>\n",
       "      <td>61.1</td>\n",
       "      <td>4.9671</td>\n",
       "      <td>2.0</td>\n",
       "      <td>242.0</td>\n",
       "      <td>17.8</td>\n",
       "      <td>392.83</td>\n",
       "      <td>4.03</td>\n",
       "    </tr>\n",
       "    <tr>\n",
       "      <td>3</td>\n",
       "      <td>1</td>\n",
       "      <td>0.03237</td>\n",
       "      <td>0.0</td>\n",
       "      <td>2.18</td>\n",
       "      <td>0.0</td>\n",
       "      <td>0.458</td>\n",
       "      <td>6.998</td>\n",
       "      <td>45.8</td>\n",
       "      <td>6.0622</td>\n",
       "      <td>3.0</td>\n",
       "      <td>222.0</td>\n",
       "      <td>18.7</td>\n",
       "      <td>394.63</td>\n",
       "      <td>2.94</td>\n",
       "    </tr>\n",
       "    <tr>\n",
       "      <td>4</td>\n",
       "      <td>1</td>\n",
       "      <td>0.06905</td>\n",
       "      <td>0.0</td>\n",
       "      <td>2.18</td>\n",
       "      <td>0.0</td>\n",
       "      <td>0.458</td>\n",
       "      <td>7.147</td>\n",
       "      <td>54.2</td>\n",
       "      <td>6.0622</td>\n",
       "      <td>3.0</td>\n",
       "      <td>222.0</td>\n",
       "      <td>18.7</td>\n",
       "      <td>396.90</td>\n",
       "      <td>5.33</td>\n",
       "    </tr>\n",
       "  </tbody>\n",
       "</table>\n",
       "</div>"
      ],
      "text/plain": [
       "   __constant     CRIM    ZN  INDUS  CHAS    NOX     RM   AGE     DIS  RAD  \\\n",
       "0           1  0.00632  18.0   2.31   0.0  0.538  6.575  65.2  4.0900  1.0   \n",
       "1           1  0.02731   0.0   7.07   0.0  0.469  6.421  78.9  4.9671  2.0   \n",
       "2           1  0.02729   0.0   7.07   0.0  0.469  7.185  61.1  4.9671  2.0   \n",
       "3           1  0.03237   0.0   2.18   0.0  0.458  6.998  45.8  6.0622  3.0   \n",
       "4           1  0.06905   0.0   2.18   0.0  0.458  7.147  54.2  6.0622  3.0   \n",
       "\n",
       "     TAX  PTRATIO       B  LSTAT  \n",
       "0  296.0     15.3  396.90   4.98  \n",
       "1  242.0     17.8  396.90   9.14  \n",
       "2  242.0     17.8  392.83   4.03  \n",
       "3  222.0     18.7  394.63   2.94  \n",
       "4  222.0     18.7  396.90   5.33  "
      ]
     },
     "execution_count": 4,
     "metadata": {},
     "output_type": "execute_result"
    }
   ],
   "source": [
    "boston = pd.DataFrame(boston_dataset.data, columns=boston_dataset.feature_names)\n",
    "boston.insert(0, '__constant', 1)\n",
    "\n",
    "X = boston.values\n",
    "y = boston_dataset.target\n",
    "\n",
    "boston.head()"
   ]
  },
  {
   "cell_type": "markdown",
   "metadata": {},
   "source": [
    "### 3) Train/dev/test split"
   ]
  },
  {
   "cell_type": "code",
   "execution_count": 5,
   "metadata": {},
   "outputs": [],
   "source": [
    "sets = Splitter().split(X, y)\n",
    "\n",
    "X_train = sets['train']['X']\n",
    "X_dev = sets['dev']['X']\n",
    "X_test = sets['test']['X']\n",
    "\n",
    "y_train = sets['train']['y']\n",
    "y_dev = sets['dev']['y']\n",
    "y_test = sets['test']['y']"
   ]
  },
  {
   "cell_type": "markdown",
   "metadata": {},
   "source": [
    "### 4) Standartization"
   ]
  },
  {
   "cell_type": "code",
   "execution_count": 6,
   "metadata": {},
   "outputs": [],
   "source": [
    "scaler = StandardScaler()\n",
    "scaler.fit(X_train)\n",
    "\n",
    "X_train_scale = scaler.transform(X_train)\n",
    "X_dev_scale = scaler.transform(X_dev)\n",
    "X_test_scale = scaler.transform(X_test)"
   ]
  },
  {
   "cell_type": "markdown",
   "metadata": {},
   "source": [
    "### 5) Model"
   ]
  },
  {
   "cell_type": "code",
   "execution_count": 7,
   "metadata": {},
   "outputs": [
    {
     "data": {
      "image/png": "[encoded data removed]",
      "text/plain": [
       "<Figure size 864x432 with 1 Axes>"
      ]
     },
     "metadata": {},
     "output_type": "display_data"
    }
   ],
   "source": [
    "# Init model\n",
    "ridge = Ridge()\n",
    "\n",
    "# Fit model\n",
    "ridge.fit(X_train_scale, y_train)\n",
    "\n",
    "#Plot learning curve\n",
    "ridge.plot_learning_curve('r--')"
   ]
  },
  {
   "cell_type": "markdown",
   "metadata": {},
   "source": [
    "### 6) Prediction"
   ]
  },
  {
   "cell_type": "code",
   "execution_count": 14,
   "metadata": {},
   "outputs": [],
   "source": [
    "y_dev_pred = ridge.predict(X_dev_scale)"
   ]
  },
  {
   "cell_type": "code",
   "execution_count": 21,
   "metadata": {},
   "outputs": [
    {
     "data": {
      "text/plain": [
       "array([ -1.26064517,  -4.68983501,   2.08638251, -16.8802948 ,\n",
       "         0.38173907,  -3.87138683,   7.81152924,   6.62393936,\n",
       "         4.67649859,  -4.87343334,   7.69416635, -10.18885312,\n",
       "        -5.3153086 ,  -4.3994473 ,   2.42192434,   2.55049189,\n",
       "        -2.39650898,   5.82795306,   7.19014264,   0.25679219,\n",
       "        -5.49880735,  -1.67091499,  -0.83423946,  -6.27502634,\n",
       "        -0.36084771,  12.38243799,   1.52522273,   1.54053214,\n",
       "        -3.31160201,  10.69947875, -11.49099784,  -1.89246199,\n",
       "        -7.47766124,  -4.06739711,   1.13641736,   4.48585041,\n",
       "        -6.40021258,  -6.01604143,  -0.30560909,   2.09322588,\n",
       "        -0.81187846,  -5.4903006 ,  -3.34775962,   1.13153152,\n",
       "        -3.57984022,  -8.465097  ,   4.58582027,   2.09344105,\n",
       "         9.48911959,  -8.88756328,   8.52484661,   6.23267266,\n",
       "         3.66334528,  -0.03315086,  -3.84115394,  -7.20887213,\n",
       "       -11.78842207,  -1.862538  ,  -3.99634611,  -0.23780172,\n",
       "        -2.2541425 ,   6.75745577,  -5.01002843,  -7.90510533,\n",
       "         0.15274636,  -2.61717897,   7.56788658,   0.04004823,\n",
       "        -6.11701923,  -2.11367459,  -3.30978156,  -0.51411875,\n",
       "        -1.60079554,  -6.10416939,   0.07913066,  -3.56889209,\n",
       "         5.81069056,   3.03305825,   3.16913822,   1.58083215,\n",
       "        -5.90777548,   4.32193373,  -4.45421323,  -6.58063368,\n",
       "         7.10014582,  -0.6632404 ,   2.14117557,   7.8792819 ,\n",
       "        -3.51552158,  -0.74478   ,   6.86768279,  -5.27518045,\n",
       "        -5.96185428,   2.26686573,   5.04468689,   3.28690442,\n",
       "         4.7400563 ,   7.05146274,  -6.3109436 ,  -6.0105443 ,\n",
       "        -1.95741343])"
      ]
     },
     "execution_count": 21,
     "metadata": {},
     "output_type": "execute_result"
    }
   ],
   "source": [
    "y_dev_pred"
   ]
  },
  {
   "cell_type": "markdown",
   "metadata": {},
   "source": [
    "### 7) Comparison"
   ]
  },
  {
   "cell_type": "code",
   "execution_count": 16,
   "metadata": {},
   "outputs": [],
   "source": [
    "from sklearn import linear_model"
   ]
  },
  {
   "cell_type": "code",
   "execution_count": 22,
   "metadata": {},
   "outputs": [],
   "source": [
    "ridge_sklrn = linear_model.Ridge()\n",
    "ridge_sklrn.fit(X_train_scale, y_train)\n",
    "y_dev_pred_sklrn = ridge_sklrn.predict(X_dev_scale)"
   ]
  },
  {
   "cell_type": "code",
   "execution_count": 23,
   "metadata": {},
   "outputs": [
    {
     "data": {
      "image/png": "[encoded data removed]",
      "text/plain": [
       "<Figure size 432x288 with 1 Axes>"
      ]
     },
     "metadata": {},
     "output_type": "display_data"
    }
   ],
   "source": [
    "x = range(len(y_dev_pred))\n",
    "plt.plot(x, y_dev_pred_sklrn)\n",
    "plt.plot(x, y_dev)\n",
    "plt.show()"
   ]
  },
  {
   "cell_type": "code",
   "execution_count": null,
   "metadata": {},
   "outputs": [],
   "source": []
  }
 ],
 "metadata": {
  "kernelspec": {
   "display_name": "Python 3",
   "language": "python",
   "name": "python3"
  },
  "language_info": {
   "codemirror_mode": {
    "name": "ipython",
    "version": 3
   },
   "file_extension": ".py",
   "mimetype": "text/x-python",
   "name": "python",
   "nbconvert_exporter": "python",
   "pygments_lexer": "ipython3",
   "version": "3.7.4"
  }
 },
 "nbformat": 4,
 "nbformat_minor": 4
}
